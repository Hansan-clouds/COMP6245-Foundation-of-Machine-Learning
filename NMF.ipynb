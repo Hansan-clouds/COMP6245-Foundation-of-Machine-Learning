{
 "cells": [
  {
   "cell_type": "code",
   "execution_count": 1,
   "id": "d18825ec",
   "metadata": {},
   "outputs": [],
   "source": [
    "%matplotlib inline\n",
    "import matplotlib.pyplot as plt\n",
    "import numpy as np"
   ]
  },
  {
   "cell_type": "code",
   "execution_count": 2,
   "id": "9de1583f",
   "metadata": {},
   "outputs": [],
   "source": [
    "# np.random.seed(0)\n",
    "Wtrue = np.random.rand(40,5) \n",
    "# np.random.seed(0)\n",
    "Htrue = np.random.rand(5,10)\n",
    "V0 = Wtrue @ Htrue\n",
    "m, n = V0.shape  # m= 40, n=10"
   ]
  },
  {
   "cell_type": "code",
   "execution_count": 7,
   "id": "98339a0c",
   "metadata": {},
   "outputs": [],
   "source": [
    "# Specify the rank\n",
    "# Construct a low rank matrix  \n",
    "#\n",
    "# np.random.seed(0)\n",
    "# Wtrue = np.random.rand(40,5) \n",
    "# np.random.seed(0)\n",
    "# Htrue = np.random.rand(5,10)\n",
    "# # Wtrue = np.linspace(0,100,200)\n",
    "# # Wtrue = np.reshape(Wtrue,(40,5))\n",
    "# # Htrue = np.linspace(100,200,50)\n",
    "# # Htrue = np.reshape(Htrue,(5,10))\n",
    "# V0 = Wtrue @ Htrue\n",
    "# # print(V0.shape) #40*10\n",
    "# # Dimensions of data\n",
    "# #\n",
    "# m, n = V0.shape  # m= 40, n=10\n",
    "\n",
    "r = 9;\n",
    "# Normalise columnwise\n",
    "#\n",
    "V = np.zeros((m,n)) #40*10\n",
    "for i in range(n):\n",
    "    V[:,i] = V0[:,i] / np.max(V0[:,i])  #  normlaising\n",
    "# Initialize\n",
    "#\n",
    "np.random.seed(0)\n",
    "W = np.random.rand(m,r);  # T*r  \n",
    "np.random.seed(0)\n",
    "H = np.random.rand(r,n);  #r*H\n",
    "  \n",
    "MaxIter = 40000\n",
    "f = np.zeros((MaxIter,1))  # iteration \n",
    "# Initial error\n",
    "#\n",
    "f[0] = np.linalg.norm(V - W @ H, ord='fro'); #Frobenius norm, \n",
    "\n",
    "for iter in range(MaxIter-1):\n",
    "    #update H\n",
    "    W_TV = W.T@V\n",
    "    W_TWH = W.T@W@H \n",
    "    for i in range(np.size(H, 0)):\n",
    "        for j in range(np.size(H, 1)):\n",
    "            H[i, j] = H[i, j] * W_TV[i, j] / W_TWH[i, j]  #H\n",
    "    \n",
    "    # Update W\n",
    "    VH_T = V@H.T\n",
    "    WHH_T =  W@H@H.T\n",
    "    for i in range(np.size(W, 0)):\n",
    "        for j in range(np.size(W, 1)):\n",
    "            W[i, j] = W[i, j] * VH_T[i, j] / WHH_T[i, j]  #W\n",
    "    \n",
    "    f[iter+1] = np.linalg.norm(V - W @ H, ord='fro')\n"
   ]
  },
  {
   "cell_type": "code",
   "execution_count": 8,
   "id": "3796f913",
   "metadata": {},
   "outputs": [
    {
     "name": "stdout",
     "output_type": "stream",
     "text": [
      "8.05782555401246e-14\n"
     ]
    },
    {
     "data": {
      "image/png": "[encoded data removed]",
      "text/plain": [
       "<Figure size 360x288 with 1 Axes>"
      ]
     },
     "metadata": {
      "needs_background": "light"
     },
     "output_type": "display_data"
    }
   ],
   "source": [
    "fig, ax = plt.subplots(figsize=(5,4))\n",
    "ax.plot(np.arange(MaxIter), np.log(f), c='m')\n",
    "ax.set_title(\"Error function of r equals to 9\")\n",
    "ax.set_xlabel(\"Number of iteration\")\n",
    "ax.set_ylabel(\"log(Error)\")\n",
    "ax.grid(True)\n",
    "print(np.linalg.norm(V - W @ H, ord='fro'))\n",
    "plt.savefig(\"err9.png\")"
   ]
  },
  {
   "cell_type": "code",
   "execution_count": 9,
   "id": "b21531b2",
   "metadata": {
    "scrolled": true
   },
   "outputs": [
    {
     "name": "stdout",
     "output_type": "stream",
     "text": [
      "(40, 9)\n",
      "(9, 10)\n"
     ]
    }
   ],
   "source": [
    "print(W.shape)\n",
    "print(H.shape)"
   ]
  },
  {
   "cell_type": "code",
   "execution_count": 10,
   "id": "363108e9",
   "metadata": {},
   "outputs": [],
   "source": [
    "X = V\n",
    "from sklearn.decomposition import NMF\n",
    "model = NMF(n_components=6, init='random',max_iter=40000,random_state=0,tol = 1.0e-15)\n",
    "W_sklearn = model.fit_transform(X)\n",
    "H_sklearn = model.components_"
   ]
  },
  {
   "cell_type": "code",
   "execution_count": 11,
   "id": "5ab8b282",
   "metadata": {},
   "outputs": [
    {
     "name": "stdout",
     "output_type": "stream",
     "text": [
      "(40, 6)\n",
      "(6, 10)\n"
     ]
    }
   ],
   "source": [
    "print(W_sklearn.shape)\n",
    "print(H_sklearn.shape)"
   ]
  },
  {
   "cell_type": "code",
   "execution_count": 12,
   "id": "91faf21b",
   "metadata": {},
   "outputs": [
    {
     "name": "stdout",
     "output_type": "stream",
     "text": [
      "5.908483438577178e-15\n",
      "39999\n"
     ]
    }
   ],
   "source": [
    "print(np.linalg.norm(V - W_sklearn @ H_sklearn, ord='fro'))\n",
    "print(model.n_iter_ )"
   ]
  },
  {
   "cell_type": "code",
   "execution_count": 13,
   "id": "6aa53f8c",
   "metadata": {},
   "outputs": [
    {
     "ename": "ValueError",
     "evalue": "operands could not be broadcast together with shapes (40,9) (40,6) ",
     "output_type": "error",
     "traceback": [
      "\u001b[1;31m---------------------------------------------------------------------------\u001b[0m",
      "\u001b[1;31mValueError\u001b[0m                                Traceback (most recent call last)",
      "\u001b[1;32m<ipython-input-13-1bfd1977cbd9>\u001b[0m in \u001b[0;36m<module>\u001b[1;34m()\u001b[0m\n\u001b[0;32m      1\u001b[0m \u001b[1;31m#compare difference of W and W_sklearn\u001b[0m\u001b[1;33m\u001b[0m\u001b[1;33m\u001b[0m\u001b[1;33m\u001b[0m\u001b[0m\n\u001b[1;32m----> 2\u001b[1;33m \u001b[0mprint\u001b[0m\u001b[1;33m(\u001b[0m\u001b[0mnp\u001b[0m\u001b[1;33m.\u001b[0m\u001b[0mlinalg\u001b[0m\u001b[1;33m.\u001b[0m\u001b[0mnorm\u001b[0m\u001b[1;33m(\u001b[0m\u001b[0mW\u001b[0m \u001b[1;33m-\u001b[0m \u001b[0mW_sklearn\u001b[0m\u001b[1;33m,\u001b[0m \u001b[0mord\u001b[0m\u001b[1;33m=\u001b[0m\u001b[1;34m'fro'\u001b[0m\u001b[1;33m)\u001b[0m\u001b[1;33m)\u001b[0m\u001b[1;33m\u001b[0m\u001b[1;33m\u001b[0m\u001b[0m\n\u001b[0m\u001b[0;32m      3\u001b[0m \u001b[1;31m#compare difference of H and H_sklearn\u001b[0m\u001b[1;33m\u001b[0m\u001b[1;33m\u001b[0m\u001b[1;33m\u001b[0m\u001b[0m\n\u001b[0;32m      4\u001b[0m \u001b[0mprint\u001b[0m\u001b[1;33m(\u001b[0m\u001b[0mnp\u001b[0m\u001b[1;33m.\u001b[0m\u001b[0mlinalg\u001b[0m\u001b[1;33m.\u001b[0m\u001b[0mnorm\u001b[0m\u001b[1;33m(\u001b[0m\u001b[0mH\u001b[0m \u001b[1;33m-\u001b[0m \u001b[0mH_sklearn\u001b[0m\u001b[1;33m,\u001b[0m \u001b[0mord\u001b[0m\u001b[1;33m=\u001b[0m\u001b[1;34m'fro'\u001b[0m\u001b[1;33m)\u001b[0m\u001b[1;33m)\u001b[0m\u001b[1;33m\u001b[0m\u001b[1;33m\u001b[0m\u001b[0m\n",
      "\u001b[1;31mValueError\u001b[0m: operands could not be broadcast together with shapes (40,9) (40,6) "
     ]
    }
   ],
   "source": [
    "#compare difference of W and W_sklearn\n",
    "print(np.linalg.norm(W - W_sklearn, ord='fro'))\n",
    "#compare difference of H and H_sklearn\n",
    "print(np.linalg.norm(H - H_sklearn, ord='fro'))"
   ]
  },
  {
   "cell_type": "code",
   "execution_count": null,
   "id": "b244ee28",
   "metadata": {},
   "outputs": [],
   "source": []
  },
  {
   "cell_type": "code",
   "execution_count": 14,
   "id": "d1f64a22",
   "metadata": {},
   "outputs": [],
   "source": [
    "#read data and decomposite 95 assets\n",
    "import matplotlib.pyplot as plt \n",
    "import numpy as np \n",
    "import pandas as pd \n",
    "\n",
    "df = pd.read_excel('Equities.xlsx')\n",
    "data = np.array(df.drop(labels = ['Name','FTSE100'],axis = 1))\n",
    "train = data[:983,:]   # split into train and test\n",
    "test = data[983:,:]"
   ]
  },
  {
   "cell_type": "code",
   "execution_count": 15,
   "id": "c686706f",
   "metadata": {},
   "outputs": [],
   "source": [
    "X = train\n",
    "from sklearn.decomposition import NMF\n",
    "model = NMF(n_components=10, init='random',max_iter=40000,random_state=0,tol = 1.0e-5)\n",
    "W = model.fit_transform(X)  #T * r\n",
    "H = model.components_  # r* N\n",
    "\n",
    "\n",
    "# V0 = train\n",
    "# m, n = V0.shape  # m= 40, n=10\n",
    "# r = 10;\n",
    "# # Normalise columnwise\n",
    "# #\n",
    "# V = V0\n",
    "# # np.zeros((m,n)) #40*10\n",
    "# # for i in range(n):\n",
    "# #     V[:,i] = V0[:,i] / np.max(V0[:,i])  #  normlaising\n",
    "# # Initialize\n",
    "# #\n",
    "# np.random.seed(0)\n",
    "# W = np.random.rand(m,r);  # T*r  \n",
    "# np.random.seed(0)\n",
    "# H = np.random.rand(r,n);  #r*H\n",
    "  \n",
    "# MaxIter = 4000\n",
    "# f = np.zeros((MaxIter,1))  # iteration \n",
    "# # Initial error\n",
    "# #\n",
    "# f[0] = np.linalg.norm(V - W @ H, ord='fro'); #Frobenius norm, \n",
    "\n",
    "# for iter in range(MaxIter-1):\n",
    "#     #update H\n",
    "#     W_TV = W.T@V\n",
    "#     W_TWH = W.T@W@H \n",
    "#     for i in range(np.size(H, 0)):\n",
    "#         for j in range(np.size(H, 1)):\n",
    "#             H[i, j] = H[i, j] * W_TV[i, j] / W_TWH[i, j]  #H\n",
    "    \n",
    "#     # Update W\n",
    "#     VH_T = V@H.T\n",
    "#     WHH_T =  W@H@H.T\n",
    "#     for i in range(np.size(W, 0)):\n",
    "#         for j in range(np.size(W, 1)):\n",
    "#             W[i, j] = W[i, j] * VH_T[i, j] / WHH_T[i, j]  #W\n",
    "    \n",
    "#     f[iter+1] = np.linalg.norm(V - W @ H, ord='fro')\n"
   ]
  },
  {
   "cell_type": "code",
   "execution_count": 16,
   "id": "9495d4b8",
   "metadata": {},
   "outputs": [],
   "source": [
    "# fig, ax = plt.subplots(figsize=(5,4))\n",
    "# ax.plot(np.arange(MaxIter), np.log(f), c='m')\n",
    "# ax.set_title(\"Error function of r equals to 10\")\n",
    "# ax.set_xlabel(\"Number of iteration\")\n",
    "# ax.set_ylabel(\"log(Error)\")\n",
    "# ax.grid(True)\n",
    "# print(np.linalg.norm(V - W @ H, ord='fro'))\n",
    "# plt.savefig(\"ftse100.png\")"
   ]
  },
  {
   "cell_type": "code",
   "execution_count": 17,
   "id": "25781796",
   "metadata": {},
   "outputs": [
    {
     "name": "stdout",
     "output_type": "stream",
     "text": [
      "12839.684262272616\n",
      "11267\n"
     ]
    }
   ],
   "source": [
    "print(model.reconstruction_err_)\n",
    "print(model.n_iter_  )"
   ]
  },
  {
   "cell_type": "code",
   "execution_count": 18,
   "id": "1f23b276",
   "metadata": {},
   "outputs": [],
   "source": [
    "# W_d = pd.DataFrame(W)\n",
    "# df_arr = np.array(df['FTSE100'])\n",
    "# df_arr = df_arr[:983]\n",
    "# df_arr = pd.DataFrame(df_arr)\n",
    "# final = pd.concat([df_arr,W_d],axis = 1,ignore_index = True)\n",
    "# final.corr()"
   ]
  },
  {
   "cell_type": "code",
   "execution_count": 19,
   "id": "b5f20711",
   "metadata": {},
   "outputs": [],
   "source": [
    "W_d = pd.DataFrame(W)\n",
    "index = df['FTSE100'][:983]\n",
    "final = pd.concat([index,W_d],axis = 1,ignore_index = True)\n",
    "# final_arr = np.array(final)\n",
    "# train = final_arr[:983,:]   # split into train and test\n",
    "# test = final_arr[983:,:]\n",
    "# train_df = pd.DataFrame(train)\n",
    "# test_df = pd.DataFrame(test)"
   ]
  },
  {
   "cell_type": "code",
   "execution_count": 20,
   "id": "b9931878",
   "metadata": {},
   "outputs": [
    {
     "data": {
      "text/html": [
       "<div>\n",
       "<style scoped>\n",
       "    .dataframe tbody tr th:only-of-type {\n",
       "        vertical-align: middle;\n",
       "    }\n",
       "\n",
       "    .dataframe tbody tr th {\n",
       "        vertical-align: top;\n",
       "    }\n",
       "\n",
       "    .dataframe thead th {\n",
       "        text-align: right;\n",
       "    }\n",
       "</style>\n",
       "<table border=\"1\" class=\"dataframe\">\n",
       "  <thead>\n",
       "    <tr style=\"text-align: right;\">\n",
       "      <th></th>\n",
       "      <th>0</th>\n",
       "      <th>1</th>\n",
       "      <th>2</th>\n",
       "      <th>3</th>\n",
       "      <th>4</th>\n",
       "      <th>5</th>\n",
       "      <th>6</th>\n",
       "      <th>7</th>\n",
       "      <th>8</th>\n",
       "      <th>9</th>\n",
       "      <th>10</th>\n",
       "    </tr>\n",
       "  </thead>\n",
       "  <tbody>\n",
       "    <tr>\n",
       "      <th>0</th>\n",
       "      <td>1.000000</td>\n",
       "      <td>0.878181</td>\n",
       "      <td>-0.773371</td>\n",
       "      <td>0.612718</td>\n",
       "      <td>-0.772700</td>\n",
       "      <td>0.347815</td>\n",
       "      <td>0.720092</td>\n",
       "      <td>-0.086294</td>\n",
       "      <td>0.219322</td>\n",
       "      <td>0.599180</td>\n",
       "      <td>-0.554983</td>\n",
       "    </tr>\n",
       "    <tr>\n",
       "      <th>1</th>\n",
       "      <td>0.878181</td>\n",
       "      <td>1.000000</td>\n",
       "      <td>-0.741249</td>\n",
       "      <td>0.505251</td>\n",
       "      <td>-0.802127</td>\n",
       "      <td>0.238597</td>\n",
       "      <td>0.645003</td>\n",
       "      <td>-0.242026</td>\n",
       "      <td>0.211381</td>\n",
       "      <td>0.660272</td>\n",
       "      <td>-0.516251</td>\n",
       "    </tr>\n",
       "    <tr>\n",
       "      <th>2</th>\n",
       "      <td>-0.773371</td>\n",
       "      <td>-0.741249</td>\n",
       "      <td>1.000000</td>\n",
       "      <td>-0.425187</td>\n",
       "      <td>0.604460</td>\n",
       "      <td>-0.462936</td>\n",
       "      <td>-0.459802</td>\n",
       "      <td>0.132174</td>\n",
       "      <td>-0.420616</td>\n",
       "      <td>-0.567196</td>\n",
       "      <td>0.199914</td>\n",
       "    </tr>\n",
       "    <tr>\n",
       "      <th>3</th>\n",
       "      <td>0.612718</td>\n",
       "      <td>0.505251</td>\n",
       "      <td>-0.425187</td>\n",
       "      <td>1.000000</td>\n",
       "      <td>-0.492371</td>\n",
       "      <td>-0.182646</td>\n",
       "      <td>0.459893</td>\n",
       "      <td>-0.173773</td>\n",
       "      <td>0.118144</td>\n",
       "      <td>0.224864</td>\n",
       "      <td>-0.393254</td>\n",
       "    </tr>\n",
       "    <tr>\n",
       "      <th>4</th>\n",
       "      <td>-0.772700</td>\n",
       "      <td>-0.802127</td>\n",
       "      <td>0.604460</td>\n",
       "      <td>-0.492371</td>\n",
       "      <td>1.000000</td>\n",
       "      <td>-0.310981</td>\n",
       "      <td>-0.499503</td>\n",
       "      <td>-0.106895</td>\n",
       "      <td>-0.261432</td>\n",
       "      <td>-0.500604</td>\n",
       "      <td>0.254660</td>\n",
       "    </tr>\n",
       "    <tr>\n",
       "      <th>5</th>\n",
       "      <td>0.347815</td>\n",
       "      <td>0.238597</td>\n",
       "      <td>-0.462936</td>\n",
       "      <td>-0.182646</td>\n",
       "      <td>-0.310981</td>\n",
       "      <td>1.000000</td>\n",
       "      <td>0.301902</td>\n",
       "      <td>-0.073593</td>\n",
       "      <td>-0.090438</td>\n",
       "      <td>0.530661</td>\n",
       "      <td>-0.251279</td>\n",
       "    </tr>\n",
       "    <tr>\n",
       "      <th>6</th>\n",
       "      <td>0.720092</td>\n",
       "      <td>0.645003</td>\n",
       "      <td>-0.459802</td>\n",
       "      <td>0.459893</td>\n",
       "      <td>-0.499503</td>\n",
       "      <td>0.301902</td>\n",
       "      <td>1.000000</td>\n",
       "      <td>-0.136775</td>\n",
       "      <td>-0.372810</td>\n",
       "      <td>0.312714</td>\n",
       "      <td>-0.603790</td>\n",
       "    </tr>\n",
       "    <tr>\n",
       "      <th>7</th>\n",
       "      <td>-0.086294</td>\n",
       "      <td>-0.242026</td>\n",
       "      <td>0.132174</td>\n",
       "      <td>-0.173773</td>\n",
       "      <td>-0.106895</td>\n",
       "      <td>-0.073593</td>\n",
       "      <td>-0.136775</td>\n",
       "      <td>1.000000</td>\n",
       "      <td>0.002292</td>\n",
       "      <td>-0.604642</td>\n",
       "      <td>0.379061</td>\n",
       "    </tr>\n",
       "    <tr>\n",
       "      <th>8</th>\n",
       "      <td>0.219322</td>\n",
       "      <td>0.211381</td>\n",
       "      <td>-0.420616</td>\n",
       "      <td>0.118144</td>\n",
       "      <td>-0.261432</td>\n",
       "      <td>-0.090438</td>\n",
       "      <td>-0.372810</td>\n",
       "      <td>0.002292</td>\n",
       "      <td>1.000000</td>\n",
       "      <td>0.197715</td>\n",
       "      <td>0.207631</td>\n",
       "    </tr>\n",
       "    <tr>\n",
       "      <th>9</th>\n",
       "      <td>0.599180</td>\n",
       "      <td>0.660272</td>\n",
       "      <td>-0.567196</td>\n",
       "      <td>0.224864</td>\n",
       "      <td>-0.500604</td>\n",
       "      <td>0.530661</td>\n",
       "      <td>0.312714</td>\n",
       "      <td>-0.604642</td>\n",
       "      <td>0.197715</td>\n",
       "      <td>1.000000</td>\n",
       "      <td>-0.561531</td>\n",
       "    </tr>\n",
       "    <tr>\n",
       "      <th>10</th>\n",
       "      <td>-0.554983</td>\n",
       "      <td>-0.516251</td>\n",
       "      <td>0.199914</td>\n",
       "      <td>-0.393254</td>\n",
       "      <td>0.254660</td>\n",
       "      <td>-0.251279</td>\n",
       "      <td>-0.603790</td>\n",
       "      <td>0.379061</td>\n",
       "      <td>0.207631</td>\n",
       "      <td>-0.561531</td>\n",
       "      <td>1.000000</td>\n",
       "    </tr>\n",
       "  </tbody>\n",
       "</table>\n",
       "</div>"
      ],
      "text/plain": [
       "          0         1         2         3         4         5         6   \\\n",
       "0   1.000000  0.878181 -0.773371  0.612718 -0.772700  0.347815  0.720092   \n",
       "1   0.878181  1.000000 -0.741249  0.505251 -0.802127  0.238597  0.645003   \n",
       "2  -0.773371 -0.741249  1.000000 -0.425187  0.604460 -0.462936 -0.459802   \n",
       "3   0.612718  0.505251 -0.425187  1.000000 -0.492371 -0.182646  0.459893   \n",
       "4  -0.772700 -0.802127  0.604460 -0.492371  1.000000 -0.310981 -0.499503   \n",
       "5   0.347815  0.238597 -0.462936 -0.182646 -0.310981  1.000000  0.301902   \n",
       "6   0.720092  0.645003 -0.459802  0.459893 -0.499503  0.301902  1.000000   \n",
       "7  -0.086294 -0.242026  0.132174 -0.173773 -0.106895 -0.073593 -0.136775   \n",
       "8   0.219322  0.211381 -0.420616  0.118144 -0.261432 -0.090438 -0.372810   \n",
       "9   0.599180  0.660272 -0.567196  0.224864 -0.500604  0.530661  0.312714   \n",
       "10 -0.554983 -0.516251  0.199914 -0.393254  0.254660 -0.251279 -0.603790   \n",
       "\n",
       "          7         8         9         10  \n",
       "0  -0.086294  0.219322  0.599180 -0.554983  \n",
       "1  -0.242026  0.211381  0.660272 -0.516251  \n",
       "2   0.132174 -0.420616 -0.567196  0.199914  \n",
       "3  -0.173773  0.118144  0.224864 -0.393254  \n",
       "4  -0.106895 -0.261432 -0.500604  0.254660  \n",
       "5  -0.073593 -0.090438  0.530661 -0.251279  \n",
       "6  -0.136775 -0.372810  0.312714 -0.603790  \n",
       "7   1.000000  0.002292 -0.604642  0.379061  \n",
       "8   0.002292  1.000000  0.197715  0.207631  \n",
       "9  -0.604642  0.197715  1.000000 -0.561531  \n",
       "10  0.379061  0.207631 -0.561531  1.000000  "
      ]
     },
     "execution_count": 20,
     "metadata": {},
     "output_type": "execute_result"
    }
   ],
   "source": [
    "final.corr()"
   ]
  },
  {
   "cell_type": "code",
   "execution_count": 21,
   "id": "27bb2da7",
   "metadata": {},
   "outputs": [],
   "source": [
    "final = np.array(final)"
   ]
  },
  {
   "cell_type": "code",
   "execution_count": 22,
   "id": "37d9c2db",
   "metadata": {},
   "outputs": [
    {
     "name": "stderr",
     "output_type": "stream",
     "text": [
      "D:\\anaconda\\envs\\tensorflow\\lib\\site-packages\\sklearn\\linear_model\\coordinate_descent.py:491: ConvergenceWarning: Objective did not converge. You might want to increase the number of iterations. Fitting data with very small alpha may cause precision problems.\n",
      "  ConvergenceWarning)\n"
     ]
    },
    {
     "data": {
      "image/png": "[encoded data removed]",
      "text/plain": [
       "<Figure size 360x288 with 1 Axes>"
      ]
     },
     "metadata": {
      "needs_background": "light"
     },
     "output_type": "display_data"
    }
   ],
   "source": [
    "X_train = data[:983,:]\n",
    "t_train = final[:,1]\n",
    "from sklearn.linear_model import Lasso\n",
    "from sklearn.linear_model import lasso_path\n",
    "ll = Lasso(alpha=80)\n",
    "ll.fit(X_train, t_train)\n",
    "th_train = ll.predict(X_train)\n",
    "# th_test = ll.predict(X_test)\n",
    "alphas_lasso, coefs_lasso,_ = lasso_path(X_train, t_train, fit_intercept=False)\n",
    "# Plot training and test predictions\n",
    "#\n",
    "fig, ax = plt.subplots(figsize=(5,4))\n",
    "ax.scatter(t_train, th_train, c='m', s=3)\n",
    "ax.plot([-10,50],[-10,50],color = 'r')\n",
    "ax.set_xlim(-5,50)\n",
    "ax.set_ylim(-5,50)\n",
    "ax.set_xlabel(\"True train value\")\n",
    "ax.set_ylabel(\"Predict train value\")\n",
    "ax.grid(True)\n",
    "ax.set_title(\"Training Data\", fontsize=14)\n",
    "\n",
    "plt.savefig(\"factorcontribution.png\")"
   ]
  },
  {
   "cell_type": "code",
   "execution_count": 23,
   "id": "87d4c645",
   "metadata": {},
   "outputs": [],
   "source": [
    "wL = ll.coef_ "
   ]
  },
  {
   "cell_type": "code",
   "execution_count": 24,
   "id": "409aafd7",
   "metadata": {},
   "outputs": [
    {
     "data": {
      "text/plain": [
       "array([-0.01120408,  0.        , -0.        ,  0.        ,  0.84093672,\n",
       "        0.74519543, -0.        ,  0.        ,  0.        ,  0.        ,\n",
       "        0.        , -0.        , -0.        , -0.        , -0.        ,\n",
       "       -0.        , -0.        , -0.        , -0.        , -0.        ,\n",
       "       -0.        , -0.        , -1.10275214, -0.        , -0.        ,\n",
       "        0.        , -0.        ,  0.        , -0.47690349, -0.        ,\n",
       "        0.        ,  0.        ,  0.        , -0.        ,  0.        ,\n",
       "       -0.        ,  0.        , -0.20378527, -0.        , -0.        ,\n",
       "        0.        , -0.17155061,  0.        , -0.        , -0.        ,\n",
       "       -0.        , -0.        ,  0.        ,  0.        , -0.        ,\n",
       "       -0.        ,  0.        , -0.        , -0.        ,  0.        ,\n",
       "        0.        , -0.        ,  1.07191211, -0.        ,  0.        ,\n",
       "        0.        ,  0.        ,  0.        , -0.        , -0.        ,\n",
       "        0.332925  , -0.        ,  0.        ,  0.        ,  0.        ,\n",
       "       -0.        ,  0.        , -0.        , -0.        ,  0.        ,\n",
       "       -0.        , -0.        ,  0.        , -0.        ,  0.        ,\n",
       "       -0.        , -0.        , -0.        , -0.        ,  0.        ,\n",
       "        0.        ,  0.        , -0.        ,  0.        , -0.        ,\n",
       "       -0.        , -0.18403251, -0.        , -0.        ,  0.        ])"
      ]
     },
     "execution_count": 24,
     "metadata": {},
     "output_type": "execute_result"
    }
   ],
   "source": [
    "wL*100"
   ]
  },
  {
   "cell_type": "code",
   "execution_count": 37,
   "id": "07c690a0",
   "metadata": {
    "scrolled": true
   },
   "outputs": [
    {
     "name": "stdout",
     "output_type": "stream",
     "text": [
      "0\n",
      "4\n",
      "5\n",
      "22\n",
      "28\n",
      "37\n",
      "41\n",
      "57\n",
      "65\n",
      "91\n"
     ]
    }
   ],
   "source": [
    "weight= []\n",
    "a = np.where(wL==0)\n",
    "for i in range(len(wL)):\n",
    "    if wL[i] !=0:\n",
    "        weight.append(i)\n",
    "#         print (name[i+2])\n",
    "#         print(wL[i])\n",
    "        print(i)\n",
    "# ADMIRAL GROUP, ASSOCIATED BRIT.FOODS,ASTRAZENECA,CRODA INTERNATIONAL ,FRESNILLO , IMPERIAL BRANDS , INTERTEK GROUP PADDY POWER BETFAIR RIO TINTO WHITBREAD"
   ]
  },
  {
   "cell_type": "code",
   "execution_count": null,
   "id": "387fce11",
   "metadata": {},
   "outputs": [],
   "source": []
  },
  {
   "cell_type": "code",
   "execution_count": 38,
   "id": "1ad7394e",
   "metadata": {},
   "outputs": [
    {
     "name": "stdout",
     "output_type": "stream",
     "text": [
      "-0.1005171978753668\n",
      "0.018094715922745707\n"
     ]
    }
   ],
   "source": [
    "# cummulative returns\n",
    "price = 0\n",
    "for i in weight:\n",
    "    price = price + test[:,i]*wL[i]\n",
    "\n",
    "re_factor = (price[-1] -price[0]) / price[0]\n",
    "print(re_factor)\n",
    "\n",
    "test_re = np.array(df['FTSE100'][983:])\n",
    "re_FTSE = (test_re[-1]-test_re[0])/test_re[0]\n",
    "print(re_FTSE)"
   ]
  },
  {
   "cell_type": "code",
   "execution_count": 27,
   "id": "b0e34053",
   "metadata": {},
   "outputs": [],
   "source": [
    "# price"
   ]
  },
  {
   "cell_type": "code",
   "execution_count": 28,
   "id": "26d6c013",
   "metadata": {},
   "outputs": [
    {
     "data": {
      "text/plain": [
       "array([[ 1.        , -0.43038672],\n",
       "       [-0.43038672,  1.        ]])"
      ]
     },
     "execution_count": 28,
     "metadata": {},
     "output_type": "execute_result"
    }
   ],
   "source": [
    "np.corrcoef(price,test_re)"
   ]
  },
  {
   "cell_type": "code",
   "execution_count": 30,
   "id": "70468574",
   "metadata": {},
   "outputs": [
    {
     "name": "stdout",
     "output_type": "stream",
     "text": [
      "[[1.         0.79315231]\n",
      " [0.79315231 1.        ]]\n",
      "0.21637645998738045\n"
     ]
    }
   ],
   "source": [
    "totle = 0\n",
    "for i in weight:\n",
    "    totle = totle + test[:,i]/10\n",
    "print(np.corrcoef(totle,test_re))\n",
    "re_ran = (totle[-1]-totle[0])/totle[0]\n",
    "print(re_ran)"
   ]
  },
  {
   "cell_type": "code",
   "execution_count": null,
   "id": "086288ce",
   "metadata": {},
   "outputs": [],
   "source": [
    "#performance comparison\n",
    "#random select 10 assets\n",
    "num = np.random.randint(1,95,10)\n",
    "assets = []\n",
    "for i in range(10):\n",
    "    assets.append(test[:,num[i]])"
   ]
  },
  {
   "cell_type": "code",
   "execution_count": null,
   "id": "4041cd0d",
   "metadata": {},
   "outputs": [],
   "source": [
    "totle = 0\n",
    "for i in range(10):\n",
    "    totle =totle+ assets[i]/10\n",
    "\n",
    "print(np.corrcoef(totle,test_re))\n",
    "\n",
    "re_ran = (totle[-1]-totle[0])/totle[0]\n",
    "print(re_ran)"
   ]
  },
  {
   "cell_type": "code",
   "execution_count": null,
   "id": "bad88a13",
   "metadata": {},
   "outputs": [],
   "source": []
  },
  {
   "cell_type": "code",
   "execution_count": null,
   "id": "aaa870ec",
   "metadata": {},
   "outputs": [],
   "source": []
  },
  {
   "cell_type": "code",
   "execution_count": null,
   "id": "9b257726",
   "metadata": {},
   "outputs": [],
   "source": []
  },
  {
   "cell_type": "code",
   "execution_count": null,
   "id": "df08dab6",
   "metadata": {},
   "outputs": [],
   "source": []
  }
 ],
 "metadata": {
  "kernelspec": {
   "display_name": "Python 3",
   "language": "python",
   "name": "python3"
  },
  "language_info": {
   "codemirror_mode": {
    "name": "ipython",
    "version": 3
   },
   "file_extension": ".py",
   "mimetype": "text/x-python",
   "name": "python",
   "nbconvert_exporter": "python",
   "pygments_lexer": "ipython3",
   "version": "3.6.13"
  }
 },
 "nbformat": 4,
 "nbformat_minor": 5
}
