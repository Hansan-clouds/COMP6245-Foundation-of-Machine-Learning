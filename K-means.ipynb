{
 "cells": [
  {
   "cell_type": "code",
   "execution_count": 2,
   "id": "15fa040f",
   "metadata": {},
   "outputs": [],
   "source": [
    "%matplotlib inline\n",
    "import matplotlib.pyplot as plt\n",
    "import numpy as np\n",
    "import pandas as pd\n"
   ]
  },
  {
   "cell_type": "code",
   "execution_count": 3,
   "id": "3a066ff3",
   "metadata": {},
   "outputs": [],
   "source": [
    "def genGaussianSamples(N, m, C):\n",
    "    A = np.linalg.cholesky(C)\n",
    "    U = np.random.randn(N,2)\n",
    "    return(U @ A.T + m)\n",
    "# Define three means\n",
    "#\n",
    "Means = np.array([[0, 3], [3, 0], [4,4]])\n",
    "# Define three covariance matrices ensuring\n",
    "# they are positive definite\n",
    "#\n",
    "from sklearn.datasets import make_spd_matrix\n",
    "CovMatrices = np.zeros((3,2,2))\n",
    "for j in range(3):\n",
    "    CovMatrices[j,:,:] = make_spd_matrix(2)\n",
    "# Priors\n",
    "#\n",
    "w = np.random.rand(3)\n",
    "w = w / np.sum(w)\n",
    "# How many data in each component (1000 in total)\n",
    "#\n",
    "nData = np.floor(w * 1000).astype(int)\n",
    "# Draw samples from each component\n",
    "#\n",
    "X0 = genGaussianSamples(nData[0], Means[0,:], CovMatrices[0,:,:])\n",
    "X1 = genGaussianSamples(nData[1], Means[1,:], CovMatrices[1,:,:])\n",
    "X2 = genGaussianSamples(nData[2], Means[2,:], CovMatrices[2,:,:])\n",
    "# Append into an array for the data we need\n",
    "#\n",
    "X = np.append(np.append(X0, X1, axis=0), X2, axis=0)"
   ]
  },
  {
   "cell_type": "code",
   "execution_count": null,
   "id": "d0e80507",
   "metadata": {},
   "outputs": [],
   "source": [
    "def gauss2D(x, m, C): #Probability density 2D 高斯\n",
    "    n = m.shape[0]\n",
    "    Ci = np.linalg.inv(C) #矩阵求逆\n",
    "    dC = np.linalg.det(C1) #矩阵求行列式(scaler)\n",
    "    \n",
    "    num = np.exp(-0.5 * np.dot((x-m).T, np.dot(Ci, (x-m)))) #马氏\n",
    "    den = np.sqrt((2*np.pi)**n * dC)\n",
    "    return num/den\n",
    "\n",
    "\n",
    "def twoDGaussianPlot (nx, ny, m, C): #\n",
    "    x = np.linspace(-3, 8, nx) #均匀返回数字 nx(50)多少个\n",
    "    y = np.linspace(-3, 8, ny)\n",
    "    X, Y = np.meshgrid(x, y, indexing='ij') # 返回两个二维矩阵，meshgrid函数将两个输入的数组x和y进行扩展，前一个是竖向扩展，后一个是横向扩展\n",
    "    #X=50*40 T=50*40  ij 为下标\n",
    "    \n",
    "    Z = np.zeros([nx, ny]) #50*40\n",
    "    for i in range(nx):\n",
    "        for j in range(ny):\n",
    "            xvec = np.array([X[i,j], Y[i,j]]) # 50*40的 array 就是二维数组，一个元素是一个（x，y）\n",
    "            Z[i,j] = gauss2D(xvec, m, C)  #返回Probability density\n",
    "    return X, Y, Z"
   ]
  },
  {
   "cell_type": "code",
   "execution_count": null,
   "id": "b13b8ca6",
   "metadata": {},
   "outputs": [],
   "source": [
    "# Plot contours\n",
    "#\n",
    "nx, ny = 50, 40\n",
    "m1 = Means[0]\n",
    "C1 = CovMatrices[0]\n",
    "Xp1, Yp1, Zp1 = twoDGaussianPlot (nx, ny, m1, C1)\n",
    "\n",
    "m2 = Means[1]\n",
    "C2 = CovMatrices[1]\n",
    "Xp2, Yp2, Zp2 = twoDGaussianPlot (nx, ny, m2, C2)\n",
    "\n",
    "m3 = Means[2]\n",
    "C3 = CovMatrices[2]\n",
    "Xp3, Yp3, Zp3 = twoDGaussianPlot (nx, ny, m3, C3)"
   ]
  },
  {
   "cell_type": "code",
   "execution_count": 10,
   "id": "3e7b85a8",
   "metadata": {},
   "outputs": [
    {
     "data": {
      "image/png": "[encoded data removed]",
      "text/plain": [
       "<Figure size 360x360 with 1 Axes>"
      ]
     },
     "metadata": {
      "needs_background": "light"
     },
     "output_type": "display_data"
    }
   ],
   "source": [
    "fig, ax = plt.subplots(figsize=(5,5))\n",
    "ax.scatter(X0[:,0], X0[:,1], c=\"g\", s=4)\n",
    "ax.scatter(X1[:,0], X1[:,1], c=\"y\", s=4)\n",
    "ax.scatter(X2[:,0], X2[:,1], c=\"b\", s=4)\n",
    "ax.scatter(centroids[0,0],centroids[0,1],c = 'r',s=50,label = '1')\n",
    "ax.scatter(centroids[1,0],centroids[1,1],c = 'r',s=50,label = '2')\n",
    "ax.scatter(centroids[2,0],centroids[2,1],c = 'r',s=50,label = '3')\n",
    "\n",
    "# for i in range(0,len(wrong_label),1):\n",
    "#     ax.scatter(wrong_label[i][0,1],wrong_label[i][0,2],c = 'r',s=5)\n",
    "ax.set_xlim(-5,8)\n",
    "ax.set_ylim(-5,8)\n",
    "ax.set_xlabel(\"x1\")\n",
    "ax.set_ylabel(\"x2\")\n",
    "ax.set_title(\"Mixture guassian model\")\n",
    "plt.savefig(\"k5.png\")"
   ]
  },
  {
   "cell_type": "code",
   "execution_count": null,
   "id": "c05a2567",
   "metadata": {},
   "outputs": [],
   "source": [
    "fig, ax = plt.subplots(figsize=(5,5))\n",
    "\n",
    "ax.scatter(X0[:,0], X0[:,1], c=\"g\", s=4)\n",
    "ax.scatter(X1[:,0], X1[:,1], c=\"y\", s=4)\n",
    "ax.scatter(X2[:,0], X2[:,1], c=\"b\", s=4)\n",
    "ax.scatter(centroids[0,0],centroids[0,1],c = 'darkorange',s=50,label = '1')\n",
    "ax.scatter(centroids[1,0],centroids[1,1],c = 'r',s=50,label = '2')\n",
    "ax.scatter(centroids[2,0],centroids[2,1],c = 'fuchsia',s=50,label = '3')\n",
    "ax.set_xlim(-5,8)\n",
    "ax.set_ylim(-5,8)\n",
    "ax.contour(Xp1, Yp1, Zp1, 5)\n",
    "ax.contour(Xp2, Yp2, Zp2, 5)\n",
    "ax.contour(Xp3, Yp3, Zp3, 5)\n",
    "ax.set_xlabel(\"x1\")\n",
    "ax.set_ylabel(\"x2\")\n",
    "ax.set_title(\"contour of Mixture guassian model\")\n",
    "ax.grid()\n",
    "plt.savefig('contour.png')"
   ]
  },
  {
   "cell_type": "code",
   "execution_count": null,
   "id": "277f021a",
   "metadata": {},
   "outputs": [],
   "source": [
    "X.shape"
   ]
  },
  {
   "cell_type": "code",
   "execution_count": 41,
   "id": "5815e53c",
   "metadata": {},
   "outputs": [
    {
     "name": "stderr",
     "output_type": "stream",
     "text": [
      "D:\\anaconda\\envs\\tensorflow\\lib\\site-packages\\numpy\\core\\fromnumeric.py:3257: RuntimeWarning: Mean of empty slice.\n",
      "  out=out, **kwargs)\n",
      "D:\\anaconda\\envs\\tensorflow\\lib\\site-packages\\numpy\\core\\_methods.py:154: RuntimeWarning: invalid value encountered in true_divide\n",
      "  ret, rcount, out=ret, casting='unsafe', subok=False)\n"
     ]
    }
   ],
   "source": [
    "import numpy as np\n",
    "import matplotlib.pyplot as plt\n",
    "\n",
    "\n",
    "def distEclud(x,y):\n",
    "    return np.sqrt(np.sum((x-y)**2))  # distance\n",
    "\n",
    "\n",
    "def randCent(dataSet,k):  #k random center\n",
    "    m,n = dataSet.shape  \n",
    "    centroids = np.zeros((k,n))\n",
    "    for i in range(k):\n",
    "        index = int(np.random.uniform(0,m)) #\n",
    "        centroids[i,:] = dataSet[index,:]\n",
    "    return centroids\n",
    "\n",
    "\n",
    "def KMeans(dataSet,k):\n",
    "\n",
    "    m = np.shape(dataSet)[0]  \n",
    "    clusterAssment = np.mat(np.zeros((m,4)))\n",
    "    clusterChange = True\n",
    "    path = np.zeros((3,2))\n",
    "#     labe = np.mat(np.zeros((m,3)))\n",
    "    # select a center\n",
    "    centroids = np.array([[4, -4], [4, -2], [6,-2]])#randCent(dataSet,k)\n",
    "#     path.append(centroids)\n",
    "\n",
    "\n",
    "    while clusterChange:\n",
    "        clusterChange = False\n",
    "        path = np.vstack((path,centroids))\n",
    "        for i in range(m):\n",
    "            minDist = 100000.0\n",
    "            minIndex = -1\n",
    "            \n",
    "            for j in range(k):\n",
    "                distance = distEclud(centroids[j,:],dataSet[i,:])\n",
    "                if distance < minDist:\n",
    "                    minDist = distance\n",
    "                    minIndex = j\n",
    "            if clusterAssment[i,0] != minIndex:\n",
    "                clusterChange = True\n",
    "                clusterAssment[i,:] = minIndex,minDist**2,dataSet[i,0],dataSet[i,1]\n",
    "            else:\n",
    "                clusterAssment[i,:] = minIndex,minDist**2,dataSet[i,0],dataSet[i,1]\n",
    "        \n",
    "        for j in range(k):\n",
    "            pointsInCluster = dataSet[np.nonzero(clusterAssment[:,0].A == j)[0]]  \n",
    "            centroids[j,:] = np.mean(pointsInCluster,axis=0)   \n",
    "#         path = np.vstack((path,centroids))\n",
    "#         print(centroids)\n",
    "    return centroids,clusterAssment,path\n",
    "\n",
    "dataSet = X \n",
    "k = 3\n",
    "centroids,clusterAssment,path = KMeans(dataSet,k)"
   ]
  },
  {
   "cell_type": "code",
   "execution_count": null,
   "id": "46632352",
   "metadata": {},
   "outputs": [],
   "source": [
    "# for i in range(len(clusterAssment)):\n",
    "#     print(clusterAssment[i,0],clusterAssment[i,2],clusterAssment[i,3])"
   ]
  },
  {
   "cell_type": "code",
   "execution_count": null,
   "id": "7e98f273",
   "metadata": {},
   "outputs": [],
   "source": [
    "fig, ax = plt.subplots(figsize=(5,5))\n",
    "for i in range(len(clusterAssment)):\n",
    "    if clusterAssment[i,0] == 0:\n",
    "        ax.scatter(clusterAssment[i,2],clusterAssment[i,3],c = 'g',s=5)\n",
    "    if clusterAssment[i,0] == 1:\n",
    "        ax.scatter(clusterAssment[i,2],clusterAssment[i,3],c = 'y',s=5)\n",
    "    if clusterAssment[i,0] == 2:\n",
    "        ax.scatter(clusterAssment[i,2],clusterAssment[i,3],c = 'b',s=5)\n",
    "\n",
    "# ax.scatter(centroids[0,0],centroids[0,1],c = 'darkorange',s=20,label = '0')\n",
    "# ax.scatter(centroids[1,0],centroids[1,1],c = 'r',s=20,label = '1')\n",
    "# ax.scatter(centroids[2,0],centroids[2,1],c = 'fuchsia',s=20,label = '2')\n",
    "# for i in range(len(wrong_label)):\n",
    "#     ax.scatter(wrong_label[i][0,1],wrong_label[i][0,2],c = 'r',s=5)\n",
    "ax.set_xlim(-5,8)\n",
    "ax.set_ylim(-5,8)\n",
    "ax.set_xlabel(\"x1\")\n",
    "ax.set_ylabel(\"x2\")\n",
    "ax.set_title(\"Classification of K-means\")\n",
    "plt.savefig(\"k.png\")"
   ]
  },
  {
   "cell_type": "code",
   "execution_count": null,
   "id": "b03a29bb",
   "metadata": {},
   "outputs": [],
   "source": [
    "orignal_label = np.mat(np.zeros((len(X),3)))\n",
    "for i in range(len(X)):\n",
    "    if i <  nData[0]:\n",
    "        orignal_label[i,:] = 0,X[i,0],X[i,1]\n",
    "    elif i < nData[0]+nData[1]:\n",
    "        orignal_label[i,:] = 1,X[i,0],X[i,1]\n",
    "    else:\n",
    "        orignal_label[i,:] = 2,X[i,0],X[i,1]"
   ]
  },
  {
   "cell_type": "code",
   "execution_count": null,
   "id": "d0373416",
   "metadata": {},
   "outputs": [],
   "source": [
    "wrong_label=[]\n",
    "for i in range(len(X)):\n",
    "    if orignal_label[i,1] == clusterAssment[i,2] and orignal_label[i,2] == clusterAssment[i,3]:\n",
    "        print (orignal_label[i,0], clusterAssment[i,0])\n",
    "        if orignal_label[i,0] != clusterAssment[i,0]:\n",
    "            wrong_label.append(orignal_label[i,:])\n"
   ]
  },
  {
   "cell_type": "code",
   "execution_count": null,
   "id": "53524700",
   "metadata": {},
   "outputs": [],
   "source": [
    "len(wrong_label)"
   ]
  },
  {
   "cell_type": "code",
   "execution_count": null,
   "id": "04946a7d",
   "metadata": {},
   "outputs": [],
   "source": [
    "totle0 = 0\n",
    "totle1 = 0\n",
    "totle2 = 0\n",
    "\n",
    "for i in range(len(wrong_label)):\n",
    "    if wrong_label[i][0,0] == 0:\n",
    "        totle0 = totle0+1\n",
    "    if wrong_label[i][0,0] == 1:\n",
    "        totle1 = totle1+1\n",
    "    if wrong_label[i][0,0] == 2:\n",
    "        totle1 = totle1+1\n"
   ]
  },
  {
   "cell_type": "code",
   "execution_count": null,
   "id": "336dfd10",
   "metadata": {},
   "outputs": [],
   "source": [
    "print(totle0,totle1,totle2)"
   ]
  },
  {
   "cell_type": "code",
   "execution_count": 42,
   "id": "fb8cdab4",
   "metadata": {},
   "outputs": [
    {
     "name": "stdout",
     "output_type": "stream",
     "text": [
      "4.0 -4.0\n",
      "4.0 -2.0\n",
      "6.0 -2.0\n"
     ]
    },
    {
     "data": {
      "text/plain": [
       "<matplotlib.legend.Legend at 0x28db3987cc0>"
      ]
     },
     "execution_count": 42,
     "metadata": {},
     "output_type": "execute_result"
    },
    {
     "data": {
      "image/png": "[encoded data removed]",
      "text/plain": [
       "<Figure size 360x360 with 1 Axes>"
      ]
     },
     "metadata": {
      "needs_background": "light"
     },
     "output_type": "display_data"
    }
   ],
   "source": [
    "fig, ax = plt.subplots(figsize=(5,5))\n",
    "\n",
    "ax.scatter(X0[:,0], X0[:,1], c=\"g\", s=1)\n",
    "ax.scatter(X1[:,0], X1[:,1], c=\"y\", s= 1)\n",
    "ax.scatter(X2[:,0], X2[:,1], c=\"b\", s=1)\n",
    "ax.set_xlabel(\"x1\")\n",
    "ax.set_ylabel(\"x2\")\n",
    "ax.set_title(\"Path of cluster center\")\n",
    "\n",
    "# for i in range(3,len(path),3):\n",
    "#     ax.scatter(path[i,0],path[i,1],c = 'r',s = 30)\n",
    "#     ax.scatter(path[i+1,0],path[i+1,1],c = 'r',s = 30)\n",
    "#     ax.scatter(path[i+2,0],path[i+2,1],c = 'r',s = 30)\n",
    "\n",
    "for i in range(3):\n",
    "    ax.scatter(path[i+3,0],path[i+3,1],c = 'r',s = 30, marker = \"s\")\n",
    "    print(path[i+3,0],path[i+3,1])\n",
    "ax.scatter(path[3,0],path[3,1],c = 'r',s = 30, marker = \"s\",label = 'initial center')\n",
    "ax.scatter(centroids[0,0],centroids[0,1],c = 'r',s=50,label = 'end center',marker = \"*\")\n",
    "ax.scatter(centroids[1,0],centroids[1,1],c = 'r',s=50,marker = \"*\")\n",
    "ax.scatter(centroids[2,0],centroids[2,1],c = 'r',s=50,marker = \"*\")\n",
    "ax.set_xlim(-5,8)\n",
    "ax.set_ylim(-5,8)\n",
    "plt.savefig(\"path_fail1.png\")\n",
    "plt.legend()"
   ]
  },
  {
   "cell_type": "code",
   "execution_count": 17,
   "id": "8d1d0c2b",
   "metadata": {},
   "outputs": [
    {
     "data": {
      "text/plain": [
       "array([[ 0.,  0.],\n",
       "       [ 0.,  0.],\n",
       "       [ 0.,  0.],\n",
       "       [-2., -2.],\n",
       "       [-2.,  0.],\n",
       "       [-2.,  2.],\n",
       "       [ 2., -1.],\n",
       "       [ 3.,  0.],\n",
       "       [ 2.,  3.],\n",
       "       [ 1.,  0.],\n",
       "       [ 3.,  0.],\n",
       "       [ 2.,  3.],\n",
       "       [ 0.,  0.],\n",
       "       [ 3.,  0.],\n",
       "       [ 2.,  3.],\n",
       "       [ 0.,  0.],\n",
       "       [ 3.,  0.],\n",
       "       [ 3.,  3.],\n",
       "       [ 0.,  1.],\n",
       "       [ 3.,  0.],\n",
       "       [ 3.,  3.],\n",
       "       [ 0.,  2.],\n",
       "       [ 3.,  0.],\n",
       "       [ 3.,  3.],\n",
       "       [ 0.,  2.],\n",
       "       [ 3.,  0.],\n",
       "       [ 3.,  3.]])"
      ]
     },
     "execution_count": 17,
     "metadata": {},
     "output_type": "execute_result"
    }
   ],
   "source": [
    "path"
   ]
  },
  {
   "cell_type": "code",
   "execution_count": 34,
   "id": "af0ed6b5",
   "metadata": {},
   "outputs": [],
   "source": [
    "import pandas\n",
    "from sklearn.cluster import KMeans\n",
    "from sklearn.metrics import silhouette_score\n",
    "kmeans = KMeans(n_clusters = 3)\n",
    "res = kmeans.fit(X)  "
   ]
  },
  {
   "cell_type": "code",
   "execution_count": 40,
   "id": "cd086ae6",
   "metadata": {},
   "outputs": [
    {
     "data": {
      "image/png": "[encoded data removed]",
      "text/plain": [
       "<Figure size 432x288 with 1 Axes>"
      ]
     },
     "metadata": {
      "needs_background": "light"
     },
     "output_type": "display_data"
    }
   ],
   "source": [
    "# KMeans\n",
    "import scipy\n",
    "# choose k value with elbow method\n",
    "K = range(1, 10)\n",
    "meanDispersions = []\n",
    "train_scaled =X\n",
    "for k in K:\n",
    "    kmeans = KMeans(n_clusters=k)\n",
    "    # kmeans = MiniBatchKMeans(n_clusters=k)  # 如果数据量大的话，例如十万条以上，可以用mini-batch kmeans\n",
    "    kmeans.fit(train_scaled)\n",
    "    #理解为计算某个与其所属类聚中心的欧式距离\n",
    "    #最终是计算所有点与对应中心的距离的平方和的均值\n",
    "    meanDispersions.append(sum(np.min(scipy.spatial.distance.cdist(train_scaled, kmeans.cluster_centers_, 'euclidean'), axis=1)) / train_scaled.shape[0])\n",
    "\n",
    "plt.plot(K, meanDispersions, 'bx-')\n",
    "plt.xlabel('k')\n",
    "plt.ylabel('Average Dispersion')\n",
    "plt.title('Selecting k with the Elbow Method')\n",
    "\n",
    "plt.savefig(\"kselection.png\")"
   ]
  },
  {
   "cell_type": "code",
   "execution_count": null,
   "id": "1a9fb761",
   "metadata": {},
   "outputs": [],
   "source": [
    "score_sk = silhouette_score(X,res.labels_)\n",
    "score"
   ]
  },
  {
   "cell_type": "code",
   "execution_count": null,
   "id": "56bfdb75",
   "metadata": {},
   "outputs": [],
   "source": [
    "score = silhouette_score(X,clusterAssment[:,0])"
   ]
  },
  {
   "cell_type": "code",
   "execution_count": null,
   "id": "581ad1d3",
   "metadata": {},
   "outputs": [],
   "source": [
    "score"
   ]
  },
  {
   "cell_type": "code",
   "execution_count": null,
   "id": "9353f7f5",
   "metadata": {},
   "outputs": [],
   "source": [
    "res.inertia_ "
   ]
  },
  {
   "cell_type": "code",
   "execution_count": null,
   "id": "cb256116",
   "metadata": {},
   "outputs": [],
   "source": [
    "tot =0\n",
    "for i in range(len(clusterAssment)):\n",
    "    tot = tot + clusterAssment[i,1]"
   ]
  },
  {
   "cell_type": "code",
   "execution_count": null,
   "id": "3dd33839",
   "metadata": {},
   "outputs": [],
   "source": [
    "tot"
   ]
  },
  {
   "cell_type": "code",
   "execution_count": null,
   "id": "c8a3c2a4",
   "metadata": {},
   "outputs": [],
   "source": [
    "from sklearn import metrics\n",
    "score = metrics.calinski_harabaz_score(X,res.labels_)\n",
    "score"
   ]
  },
  {
   "cell_type": "code",
   "execution_count": null,
   "id": "f85f0060",
   "metadata": {},
   "outputs": [],
   "source": [
    "score = metrics.calinski_harabaz_score(X,clusterAssment[:,0])\n",
    "score"
   ]
  },
  {
   "cell_type": "code",
   "execution_count": 43,
   "id": "930db266",
   "metadata": {},
   "outputs": [],
   "source": [
    "from sklearn.datasets import load_iris\n",
    "iris = load_iris()\n",
    "df = pd.DataFrame(iris.data, columns=iris.feature_names)\n",
    "df['label'] = iris.target"
   ]
  },
  {
   "cell_type": "code",
   "execution_count": 44,
   "id": "5cf9493e",
   "metadata": {},
   "outputs": [
    {
     "data": {
      "text/html": [
       "<div>\n",
       "<style scoped>\n",
       "    .dataframe tbody tr th:only-of-type {\n",
       "        vertical-align: middle;\n",
       "    }\n",
       "\n",
       "    .dataframe tbody tr th {\n",
       "        vertical-align: top;\n",
       "    }\n",
       "\n",
       "    .dataframe thead th {\n",
       "        text-align: right;\n",
       "    }\n",
       "</style>\n",
       "<table border=\"1\" class=\"dataframe\">\n",
       "  <thead>\n",
       "    <tr style=\"text-align: right;\">\n",
       "      <th></th>\n",
       "      <th>sepal length (cm)</th>\n",
       "      <th>sepal width (cm)</th>\n",
       "      <th>petal length (cm)</th>\n",
       "      <th>petal width (cm)</th>\n",
       "      <th>label</th>\n",
       "    </tr>\n",
       "  </thead>\n",
       "  <tbody>\n",
       "    <tr>\n",
       "      <th>0</th>\n",
       "      <td>5.1</td>\n",
       "      <td>3.5</td>\n",
       "      <td>1.4</td>\n",
       "      <td>0.2</td>\n",
       "      <td>0</td>\n",
       "    </tr>\n",
       "    <tr>\n",
       "      <th>1</th>\n",
       "      <td>4.9</td>\n",
       "      <td>3.0</td>\n",
       "      <td>1.4</td>\n",
       "      <td>0.2</td>\n",
       "      <td>0</td>\n",
       "    </tr>\n",
       "    <tr>\n",
       "      <th>2</th>\n",
       "      <td>4.7</td>\n",
       "      <td>3.2</td>\n",
       "      <td>1.3</td>\n",
       "      <td>0.2</td>\n",
       "      <td>0</td>\n",
       "    </tr>\n",
       "    <tr>\n",
       "      <th>3</th>\n",
       "      <td>4.6</td>\n",
       "      <td>3.1</td>\n",
       "      <td>1.5</td>\n",
       "      <td>0.2</td>\n",
       "      <td>0</td>\n",
       "    </tr>\n",
       "    <tr>\n",
       "      <th>4</th>\n",
       "      <td>5.0</td>\n",
       "      <td>3.6</td>\n",
       "      <td>1.4</td>\n",
       "      <td>0.2</td>\n",
       "      <td>0</td>\n",
       "    </tr>\n",
       "    <tr>\n",
       "      <th>...</th>\n",
       "      <td>...</td>\n",
       "      <td>...</td>\n",
       "      <td>...</td>\n",
       "      <td>...</td>\n",
       "      <td>...</td>\n",
       "    </tr>\n",
       "    <tr>\n",
       "      <th>145</th>\n",
       "      <td>6.7</td>\n",
       "      <td>3.0</td>\n",
       "      <td>5.2</td>\n",
       "      <td>2.3</td>\n",
       "      <td>2</td>\n",
       "    </tr>\n",
       "    <tr>\n",
       "      <th>146</th>\n",
       "      <td>6.3</td>\n",
       "      <td>2.5</td>\n",
       "      <td>5.0</td>\n",
       "      <td>1.9</td>\n",
       "      <td>2</td>\n",
       "    </tr>\n",
       "    <tr>\n",
       "      <th>147</th>\n",
       "      <td>6.5</td>\n",
       "      <td>3.0</td>\n",
       "      <td>5.2</td>\n",
       "      <td>2.0</td>\n",
       "      <td>2</td>\n",
       "    </tr>\n",
       "    <tr>\n",
       "      <th>148</th>\n",
       "      <td>6.2</td>\n",
       "      <td>3.4</td>\n",
       "      <td>5.4</td>\n",
       "      <td>2.3</td>\n",
       "      <td>2</td>\n",
       "    </tr>\n",
       "    <tr>\n",
       "      <th>149</th>\n",
       "      <td>5.9</td>\n",
       "      <td>3.0</td>\n",
       "      <td>5.1</td>\n",
       "      <td>1.8</td>\n",
       "      <td>2</td>\n",
       "    </tr>\n",
       "  </tbody>\n",
       "</table>\n",
       "<p>150 rows × 5 columns</p>\n",
       "</div>"
      ],
      "text/plain": [
       "     sepal length (cm)  sepal width (cm)  petal length (cm)  petal width (cm)  \\\n",
       "0                  5.1               3.5                1.4               0.2   \n",
       "1                  4.9               3.0                1.4               0.2   \n",
       "2                  4.7               3.2                1.3               0.2   \n",
       "3                  4.6               3.1                1.5               0.2   \n",
       "4                  5.0               3.6                1.4               0.2   \n",
       "..                 ...               ...                ...               ...   \n",
       "145                6.7               3.0                5.2               2.3   \n",
       "146                6.3               2.5                5.0               1.9   \n",
       "147                6.5               3.0                5.2               2.0   \n",
       "148                6.2               3.4                5.4               2.3   \n",
       "149                5.9               3.0                5.1               1.8   \n",
       "\n",
       "     label  \n",
       "0        0  \n",
       "1        0  \n",
       "2        0  \n",
       "3        0  \n",
       "4        0  \n",
       "..     ...  \n",
       "145      2  \n",
       "146      2  \n",
       "147      2  \n",
       "148      2  \n",
       "149      2  \n",
       "\n",
       "[150 rows x 5 columns]"
      ]
     },
     "execution_count": 44,
     "metadata": {},
     "output_type": "execute_result"
    }
   ],
   "source": [
    "df"
   ]
  },
  {
   "cell_type": "code",
   "execution_count": 50,
   "id": "c43397f5",
   "metadata": {},
   "outputs": [
    {
     "data": {
      "image/png": "[encoded data removed]",
      "text/plain": [
       "<Figure size 432x288 with 1 Axes>"
      ]
     },
     "metadata": {
      "needs_background": "light"
     },
     "output_type": "display_data"
    }
   ],
   "source": [
    "plt.scatter(df[:49]['sepal length (cm)'], df[:49]['sepal width (cm)'], s = 4)\n",
    "plt.scatter(df[50:99]['sepal length (cm)'], df[50:99]['sepal width (cm)'], s = 4)\n",
    "plt.scatter(df[100:149]['sepal length (cm)'], df[100:149]['sepal width (cm)'], s = 4)\n",
    "plt.scatter(res.cluster_centers_[:,0],res.cluster_centers_[:,1],c = \"r\", s = 20,label = \"center\")\n",
    "plt.xlabel('sepal length')\n",
    "plt.ylabel('sepal width')\n",
    "plt.legend()\n",
    "plt.savefig(\"sepallength_class.png\")"
   ]
  },
  {
   "cell_type": "code",
   "execution_count": 51,
   "id": "1dc6cb6d",
   "metadata": {},
   "outputs": [
    {
     "data": {
      "image/png": "[encoded data removed]",
      "text/plain": [
       "<Figure size 432x288 with 1 Axes>"
      ]
     },
     "metadata": {
      "needs_background": "light"
     },
     "output_type": "display_data"
    }
   ],
   "source": [
    "plt.scatter(df[:49]['petal length (cm)'], df[:49]['petal width (cm)'], s = 4)\n",
    "plt.scatter(df[50:99]['petal length (cm)'], df[50:99]['petal width (cm)'], s = 4)\n",
    "plt.scatter(res.cluster_centers_[:,2],res.cluster_centers_[:,3],c = \"r\", s = 20,label = \"center\")\n",
    "plt.scatter(df[100:149]['petal length (cm)'], df[100:149]['petal width (cm)'], s = 4)\n",
    "plt.xlabel('sepal length')\n",
    "plt.ylabel('sepal width')\n",
    "plt.legend()\n",
    "plt.savefig(\"petallength_class.png\")"
   ]
  },
  {
   "cell_type": "code",
   "execution_count": 46,
   "id": "f7bf6361",
   "metadata": {},
   "outputs": [],
   "source": [
    "import pandas\n",
    "from sklearn.cluster import KMeans\n",
    "from sklearn.metrics import silhouette_score\n",
    "kmeans = KMeans(n_clusters = 3)\n",
    "res = kmeans.fit(df)  "
   ]
  },
  {
   "cell_type": "code",
   "execution_count": 47,
   "id": "da08cf08",
   "metadata": {},
   "outputs": [
    {
     "data": {
      "text/plain": [
       "array([[5.006     , 3.418     , 1.464     , 0.244     , 0.        ],\n",
       "       [5.91568627, 2.76470588, 4.26470588, 1.33333333, 1.01960784],\n",
       "       [6.62244898, 2.98367347, 5.57346939, 2.03265306, 2.        ]])"
      ]
     },
     "execution_count": 47,
     "metadata": {},
     "output_type": "execute_result"
    }
   ],
   "source": [
    "res.cluster_centers_ "
   ]
  },
  {
   "cell_type": "code",
   "execution_count": null,
   "id": "0b4895ab",
   "metadata": {},
   "outputs": [],
   "source": []
  }
 ],
 "metadata": {
  "kernelspec": {
   "display_name": "Python 3",
   "language": "python",
   "name": "python3"
  },
  "language_info": {
   "codemirror_mode": {
    "name": "ipython",
    "version": 3
   },
   "file_extension": ".py",
   "mimetype": "text/x-python",
   "name": "python",
   "nbconvert_exporter": "python",
   "pygments_lexer": "ipython3",
   "version": "3.6.13"
  }
 },
 "nbformat": 4,
 "nbformat_minor": 5
}
